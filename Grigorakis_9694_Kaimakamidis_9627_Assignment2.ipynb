{
 "cells": [
  {
   "cell_type": "markdown",
   "metadata": {},
   "source": [
    "# ΑΝΑΓΝΩΡΙΣΗ ΠΡΟΤΥΠΩΝ - ΕΡΓΑΣΙΑ 2\n",
    "\n",
    "### ΕΥΘΥΜΙΟΣ ΓΡΗΓΟΡΑΚΗΣ - ΑΕΜ: 9694\n",
    "### ΑΝΕΣΤΗΣ ΚΑΪΜΑΚΑΜΙΔΗΣ - ΑΕΜ: 9627"
   ]
  },
  {
   "cell_type": "code",
   "execution_count": 1,
   "metadata": {},
   "outputs": [
    {
     "name": "stdout",
     "output_type": "stream",
     "text": [
      "Requirement already satisfied: numpy in c:\\python311\\lib\\site-packages (1.23.5)\n"
     ]
    },
    {
     "name": "stderr",
     "output_type": "stream",
     "text": [
      "\n",
      "[notice] A new release of pip available: 22.3 -> 22.3.1\n",
      "[notice] To update, run: C:\\Python311\\python.exe -m pip install --upgrade pip\n"
     ]
    },
    {
     "name": "stdout",
     "output_type": "stream",
     "text": [
      "Collecting matplotlib\n",
      "  Using cached matplotlib-3.6.2-cp311-cp311-win_amd64.whl (7.2 MB)\n",
      "Collecting contourpy>=1.0.1\n",
      "  Using cached contourpy-1.0.6-cp311-cp311-win_amd64.whl (163 kB)\n",
      "Collecting cycler>=0.10\n",
      "  Using cached cycler-0.11.0-py3-none-any.whl (6.4 kB)\n",
      "Requirement already satisfied: fonttools>=4.22.0 in c:\\python311\\lib\\site-packages (from matplotlib) (4.38.0)\n",
      "Requirement already satisfied: kiwisolver>=1.0.1 in c:\\python311\\lib\\site-packages (from matplotlib) (1.4.4)\n",
      "Requirement already satisfied: numpy>=1.19 in c:\\python311\\lib\\site-packages (from matplotlib) (1.23.5)\n",
      "Collecting packaging>=20.0\n",
      "  Using cached packaging-21.3-py3-none-any.whl (40 kB)\n",
      "Requirement already satisfied: pillow>=6.2.0 in c:\\python311\\lib\\site-packages (from matplotlib) (9.3.0)\n",
      "Requirement already satisfied: pyparsing>=2.2.1 in c:\\python311\\lib\\site-packages (from matplotlib) (3.0.9)\n",
      "Collecting python-dateutil>=2.7\n",
      "  Using cached python_dateutil-2.8.2-py2.py3-none-any.whl (247 kB)\n",
      "Requirement already satisfied: six>=1.5 in c:\\python311\\lib\\site-packages (from python-dateutil>=2.7->matplotlib) (1.16.0)\n",
      "Installing collected packages: python-dateutil, packaging, cycler, contourpy, matplotlib\n",
      "Successfully installed contourpy-1.0.6 cycler-0.11.0 matplotlib-3.6.2 packaging-21.3 python-dateutil-2.8.2\n"
     ]
    },
    {
     "name": "stderr",
     "output_type": "stream",
     "text": [
      "\n",
      "[notice] A new release of pip available: 22.3 -> 22.3.1\n",
      "[notice] To update, run: C:\\Python311\\python.exe -m pip install --upgrade pip\n"
     ]
    }
   ],
   "source": [
    "!pip install numpy \n",
    "!pip install matplotlib"
   ]
  },
  {
   "cell_type": "code",
   "execution_count": 2,
   "metadata": {},
   "outputs": [],
   "source": [
    "import numpy as np \n",
    "from matplotlib import pyplot as plt"
   ]
  },
  {
   "cell_type": "code",
   "execution_count": 48,
   "metadata": {},
   "outputs": [
    {
     "data": {
      "image/png": "[encoded data removed]",
      "text/plain": [
       "<Figure size 640x480 with 1 Axes>"
      ]
     },
     "metadata": {},
     "output_type": "display_data"
    },
    {
     "name": "stdout",
     "output_type": "stream",
     "text": [
      "2.5025025025025087\n",
      "-3.103103103103095\n"
     ]
    }
   ],
   "source": [
    "def maxtheta(dataset,points):\n",
    "    max = - np.inf\n",
    "    \n",
    "    x = np.linspace(-100,100,num=points)\n",
    "\n",
    "    for i in range(points):\n",
    "        tmp_max = 1\n",
    "        for j in range(dataset.size):\n",
    "            tmp_max = tmp_max * (1/np.pi) * (1/(1+pow(dataset[j] - x[i],2)))\n",
    "        if tmp_max > max:\n",
    "            theta = x[i]\n",
    "        max = tmp_max\n",
    "\n",
    "    return theta\n",
    "\n",
    "D1 = np.array([2.8, -0.4, -0.8, 2.3, -0.3, 3.6, 4.1])\n",
    "D2 = np.array([-4.5, -3.4, -3.1, -3.0, -2.3])\n",
    "\n",
    "x1 = np.array([[0, 0, 0, 0, 0, 0, 0]])\n",
    "x2 = np.array([[0, 0, 0, 0, 0]])\n",
    "\n",
    "points =1000\n",
    "\n",
    "fig = plt.figure()\n",
    "\n",
    "axes = plt.axes()\n",
    "\n",
    "axes.scatter(D1,x1,marker = '^')\n",
    "axes.scatter(D2,x2,marker = 'x' )\n",
    "\n",
    "plt.show()\n",
    "\n",
    "theta1 = maxtheta(D1,points)\n",
    "theta2 =maxtheta(D2,points)\n",
    "\n",
    "print(theta1)\n",
    "print(theta2)\n",
    "\n"
   ]
  }
 ],
 "metadata": {
  "kernelspec": {
   "display_name": "Python 3.9.1 64-bit",
   "language": "python",
   "name": "python3"
  },
  "language_info": {
   "codemirror_mode": {
    "name": "ipython",
    "version": 3
   },
   "file_extension": ".py",
   "mimetype": "text/x-python",
   "name": "python",
   "nbconvert_exporter": "python",
   "pygments_lexer": "ipython3",
   "version": "3.9.1"
  },
  "orig_nbformat": 4,
  "vscode": {
   "interpreter": {
    "hash": "a71985316dae5f241b0d378ab4ae15c7ce363b2595a548903ea074076174f22a"
   }
  }
 },
 "nbformat": 4,
 "nbformat_minor": 2
}
