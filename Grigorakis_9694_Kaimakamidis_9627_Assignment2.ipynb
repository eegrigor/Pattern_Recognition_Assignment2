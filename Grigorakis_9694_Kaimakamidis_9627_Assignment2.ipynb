{
 "cells": [
  {
   "cell_type": "markdown",
   "metadata": {},
   "source": [
    "# ΑΝΑΓΝΩΡΙΣΗ ΠΡΟΤΥΠΩΝ - ΕΡΓΑΣΙΑ 2\n",
    "\n",
    "### ΕΥΘΥΜΙΟΣ ΓΡΗΓΟΡΑΚΗΣ - ΑΕΜ: 9694\n",
    "### ΑΝΕΣΤΗΣ ΚΑΪΜΑΚΑΜΙΔΗΣ - ΑΕΜ: 9627"
   ]
  },
  {
   "cell_type": "code",
   "execution_count": 1,
   "metadata": {},
   "outputs": [
    {
     "name": "stdout",
     "output_type": "stream",
     "text": [
      "Requirement already satisfied: numpy in /Users/anestiskaimakamidis/opt/anaconda3/envs/tf-n/lib/python3.10/site-packages (1.22.3)\n",
      "Requirement already satisfied: matplotlib in /Users/anestiskaimakamidis/opt/anaconda3/envs/tf-n/lib/python3.10/site-packages (3.5.1)\n",
      "Requirement already satisfied: fonttools>=4.22.0 in /Users/anestiskaimakamidis/opt/anaconda3/envs/tf-n/lib/python3.10/site-packages (from matplotlib) (4.31.2)\n",
      "Requirement already satisfied: numpy>=1.17 in /Users/anestiskaimakamidis/opt/anaconda3/envs/tf-n/lib/python3.10/site-packages (from matplotlib) (1.22.3)\n",
      "Requirement already satisfied: cycler>=0.10 in /Users/anestiskaimakamidis/opt/anaconda3/envs/tf-n/lib/python3.10/site-packages (from matplotlib) (0.11.0)\n",
      "Requirement already satisfied: kiwisolver>=1.0.1 in /Users/anestiskaimakamidis/opt/anaconda3/envs/tf-n/lib/python3.10/site-packages (from matplotlib) (1.4.2)\n",
      "Requirement already satisfied: packaging>=20.0 in /Users/anestiskaimakamidis/opt/anaconda3/envs/tf-n/lib/python3.10/site-packages (from matplotlib) (21.3)\n",
      "Requirement already satisfied: python-dateutil>=2.7 in /Users/anestiskaimakamidis/opt/anaconda3/envs/tf-n/lib/python3.10/site-packages (from matplotlib) (2.8.2)\n",
      "Requirement already satisfied: pyparsing>=2.2.1 in /Users/anestiskaimakamidis/opt/anaconda3/envs/tf-n/lib/python3.10/site-packages (from matplotlib) (3.0.7)\n",
      "Requirement already satisfied: pillow>=6.2.0 in /Users/anestiskaimakamidis/opt/anaconda3/envs/tf-n/lib/python3.10/site-packages (from matplotlib) (9.1.0)\n",
      "Requirement already satisfied: six>=1.5 in /Users/anestiskaimakamidis/opt/anaconda3/envs/tf-n/lib/python3.10/site-packages (from python-dateutil>=2.7->matplotlib) (1.16.0)\n"
     ]
    }
   ],
   "source": [
    "!pip install numpy \n",
    "!pip install matplotlib"
   ]
  },
  {
   "cell_type": "code",
   "execution_count": 2,
   "metadata": {},
   "outputs": [],
   "source": [
    "import numpy as np \n",
    "from matplotlib import pyplot as plt"
   ]
  },
  {
   "cell_type": "markdown",
   "metadata": {},
   "source": [
    "# ΜΕΡΟΣ Α"
   ]
  },
  {
   "cell_type": "markdown",
   "metadata": {},
   "source": [
    "#### ΕΡΩΤΗΜΑ 1"
   ]
  },
  {
   "cell_type": "code",
   "execution_count": 3,
   "metadata": {},
   "outputs": [
    {
     "name": "stdout",
     "output_type": "stream",
     "text": [
      "2.5925925925925917\n",
      "-3.153153153153153\n"
     ]
    },
    {
     "data": {
      "image/png": "[encoded data removed]",
      "text/plain": [
       "<Figure size 432x288 with 2 Axes>"
      ]
     },
     "metadata": {
      "needs_background": "light"
     },
     "output_type": "display_data"
    }
   ],
   "source": [
    "'''\n",
    "maxtheta function: takes as input a dataset and a linespace (1 feature) and outputs maximum theta and max thetas distribution\n",
    "by implementing maximum likelihood algorithm\n",
    "'''\n",
    "def maxtheta(dataset,linespace):\n",
    "    max = - np.inf\n",
    "    \n",
    "    \n",
    "    Ltheta = np.zeros(linespace.size)\n",
    "\n",
    "    for i in range(linespace.size-1):\n",
    "        tmp_max = 1\n",
    "        for j in range(dataset.size):\n",
    "            tmp_max *= (1/np.pi) * (1/(1+pow(dataset[j] - linespace[i],2)))\n",
    "            Ltheta[i] = np.log(tmp_max)\n",
    "        if tmp_max > max:\n",
    "            theta = linespace[i]\n",
    "        max = tmp_max\n",
    "\n",
    "    return theta, Ltheta\n",
    "\n",
    "\n",
    "#input dataset\n",
    "D1 = np.array([2.8, -0.4, -0.8, 2.3, -0.3, 3.6, 4.1])\n",
    "D2 = np.array([-4.5, -3.4, -3.1, -3.0, -2.3])\n",
    "\n",
    "x1 = np.array([[0, 0, 0, 0, 0, 0, 0]])\n",
    "x2 = np.array([[0, 0, 0, 0, 0]])\n",
    "\n",
    "\n",
    "#calculate class prior probabilities P(ω1), P(ω2)\n",
    "P1 = len(D1)/(len(D1) + len(D2))\n",
    "P2 = len(D2)/(len(D1) + len(D2))\n",
    "\n",
    "\n",
    "#1 feature space\n",
    "points =1000\n",
    "linespace = np.linspace(-10,10,num=points)\n",
    "\n",
    "\n",
    "fig = plt.figure()\n",
    "\n",
    "#plot data\n",
    "plt.subplot(1, 2, 1)\n",
    "plt.scatter(D1,x1,marker = '^')\n",
    "plt.scatter(D2,x2,marker = 'x' )\n",
    "\n",
    "\n",
    "theta1_hat, Ltheta1 = maxtheta(D1,linespace)\n",
    "theta2_hat, Ltheta2 = maxtheta(D2,linespace)\n",
    "\n",
    "#plot maximum theta distribution\n",
    "plt.subplot(1, 2, 2)\n",
    "plt.scatter(linespace,Ltheta1,marker = '^')\n",
    "plt.scatter(linespace,Ltheta2,marker = 'x')\n",
    "\n",
    "#print maximum theta\n",
    "print(theta1_hat)\n",
    "print(theta2_hat)\n",
    "\n",
    "plt.show()\n"
   ]
  },
  {
   "cell_type": "markdown",
   "metadata": {},
   "source": [
    "#### ΕΡΩΤΗΜΑ 2"
   ]
  },
  {
   "cell_type": "code",
   "execution_count": 4,
   "metadata": {},
   "outputs": [
    {
     "data": {
      "image/png": "[encoded data removed]",
      "text/plain": [
       "<Figure size 432x288 with 1 Axes>"
      ]
     },
     "metadata": {
      "needs_background": "light"
     },
     "output_type": "display_data"
    },
    {
     "name": "stdout",
     "output_type": "stream",
     "text": [
      "value :  class\n",
      "2.8 :  1.0\n",
      "-0.4 :  1.0\n",
      "-0.8 :  1.0\n",
      "2.3 :  1.0\n",
      "-0.3 :  1.0\n",
      "3.6 :  1.0\n",
      "4.1 :  1.0\n",
      "-4.5 :  2.0\n",
      "-3.4 :  2.0\n",
      "-3.1 :  2.0\n",
      "-3.0 :  2.0\n",
      "-2.3 :  2.0\n"
     ]
    }
   ],
   "source": [
    "#classifier class\n",
    "class Classifier:\n",
    "    #function fit returns the maximum theta according to input data\n",
    "    def fit(data,theta):\n",
    "        max = - np.inf\n",
    "\n",
    "        for i in range(theta.size):\n",
    "            tmp_max = 1\n",
    "            for j in range(data.size):\n",
    "                tmp_max = tmp_max * (1/np.pi) * (1/(1+pow(data[j] - theta[i],2)))\n",
    "            if tmp_max > max:\n",
    "                theta_hat = theta[i]\n",
    "            max = tmp_max\n",
    "\n",
    "        return theta_hat\n",
    "\n",
    "    #function predict returns the prediction of a trained model on given data\n",
    "    def predict(data,P1,P2):\n",
    "        gx = np.zeros(data.size)\n",
    "\n",
    "        for i in range(data.size):\n",
    "            gx[i] = np.log((1/np.pi) * (1/(1+pow(data[i] - theta1_hat,2)))) - np.log((1/np.pi) * (1/(1+pow(data[i] - theta2_hat,2)))) + np.log(P1) - np.log(P2)\n",
    "\n",
    "        return gx \n",
    "\n",
    "classes = Classifier\n",
    "\n",
    "\n",
    "\n",
    "#train\n",
    "theta1_hat = classes.fit(D1,linespace)\n",
    "\n",
    "theta2_hat = classes.fit(D2,linespace)\n",
    "\n",
    "\n",
    "data_points = np.array(linespace)\n",
    "result = np.zeros(points)\n",
    "for i in range(points):\n",
    "    result= classes.predict(data_points, P1, P2)\n",
    "\n",
    "plt.figure()\n",
    "plt.scatter(linespace, result)\n",
    "plt.show()\n",
    "\n",
    "#test\n",
    "D = np.append(D1,D2)\n",
    "gx = classes.predict(D,P1,P2)\n",
    "\n",
    "Dclass = np.zeros(D.size)\n",
    "\n",
    "for i in range(D.size):\n",
    "    if gx[i] > -1:\n",
    "        Dclass[i] = 1\n",
    "    else:\n",
    "        Dclass[i] = 2\n",
    "\n",
    "print(\"value :  class\")\n",
    "for i in range(len(D)):\n",
    "    print(D[i], \": \",Dclass[i])\n",
    "        "
   ]
  },
  {
   "attachments": {},
   "cell_type": "markdown",
   "metadata": {},
   "source": [
    "## Σχολιασμός \n",
    "\n",
    "Όπως μπορούμε να δούμε απο την γραφική παράσταση του ερωτήματος 1, με τα δεδομένα, ο κανόνας απόφασης θα είναι η κατακόρυφος που βρίσκεται στο  μέσο των δύο ακραίων σημείων κάθε κλάσης, τα οποία βρίσκονται κοντινότερα στην άλλη κλάσση.Στην περίπτωση μας, αποφασίζουμε οτι κάποια είσοδος ανήκει στην κλάση 1 όταν $g(x) > -1$ και αντίστοιχα κλάση 2 όταν $g(x) < -1$."
   ]
  },
  {
   "cell_type": "markdown",
   "metadata": {},
   "source": [
    "# ΜΕΡΟΣ Β"
   ]
  },
  {
   "attachments": {},
   "cell_type": "markdown",
   "metadata": {},
   "source": [
    "#### ΕΡΩΤΗΜΑ 1"
   ]
  },
  {
   "cell_type": "code",
   "execution_count": 5,
   "metadata": {},
   "outputs": [
    {
     "data": {
      "image/png": "[encoded data removed]",
      "text/plain": [
       "<Figure size 432x288 with 2 Axes>"
      ]
     },
     "metadata": {
      "needs_background": "light"
     },
     "output_type": "display_data"
    }
   ],
   "source": [
    "#function that calculates the integral p(D|θ)P(θ)d(θ) and also p(D|θ) and returns them\n",
    "def integral1(data,linespace,ptheta):\n",
    "    pDth = np.zeros(linespace.size)\n",
    "    for i in range(linespace.size):\n",
    "        pDth[i] = 1\n",
    "        for j in range(data.size):\n",
    "            pDth[i] *= (1/np.pi) * (1/(1+pow(data[j] - linespace[i],2)))\n",
    "    \n",
    "    pDth_pth = np.zeros(linespace.size)\n",
    "    for i in range(linespace.size):\n",
    "        pDth_pth[i] = pDth[i] * ptheta[i]\n",
    "\n",
    "\n",
    "    #trapezium rule\n",
    "    step = (linespace[-1] - linespace[0])/linespace.size\n",
    "    sum = 0\n",
    "\n",
    "    for i in range(linespace.size - 1):\n",
    "        sum = sum + ((pDth_pth[i] + pDth_pth[i + 1]))*step/2\n",
    "\n",
    "    return sum, pDth_pth\n",
    "\n",
    "\n",
    "#store give p(θ)\n",
    "ptheta = np.zeros(points)\n",
    "\n",
    "for i in range(points):\n",
    "    ptheta[i] = (1/(10*np.pi)) * (1/(1+pow(linespace[i]/10,2)))\n",
    "\n",
    "\n",
    "\n",
    "result1, pDth_pth1 = integral1(D1,linespace,ptheta)\n",
    "result2, pDth_pth2= integral1(D2,linespace,ptheta)\n",
    "\n",
    "\n",
    "\n",
    "pth_D1 = np.zeros(points)\n",
    "pth_D2 = np.zeros(points)\n",
    "\n",
    "#calculate p(θ|D)\n",
    "for i in range(points):\n",
    "    pth_D1[i] = (pDth_pth1[i] * ptheta[i])/result1\n",
    "    pth_D2[i] = (pDth_pth2[i] * ptheta[i])/result2\n",
    "\n",
    "\n",
    "\n",
    "fig = plt.figure()\n",
    "\n",
    "#plot ptheta\n",
    "plt.subplot(1, 2, 1)\n",
    "plt.scatter(linespace,ptheta)\n",
    "\n",
    "\n",
    "#plot p(θ|D1) and p(θ|D2)\n",
    "plt.subplot(1, 2, 2)\n",
    "plt.scatter(linespace,pth_D1, c='blue')\n",
    "plt.scatter(linespace,pth_D2, c='orange')\n",
    "plt.show()\n"
   ]
  },
  {
   "attachments": {},
   "cell_type": "markdown",
   "metadata": {},
   "source": [
    "#### ΕΡΩΤΗΜΑ 2"
   ]
  },
  {
   "cell_type": "code",
   "execution_count": 6,
   "metadata": {},
   "outputs": [
    {
     "data": {
      "image/png": "[encoded data removed]",
      "text/plain": [
       "<Figure size 432x288 with 1 Axes>"
      ]
     },
     "metadata": {
      "needs_background": "light"
     },
     "output_type": "display_data"
    }
   ],
   "source": [
    "#function that calculates the integral p(x|θ,D)p(θ|D)d(θ) and returns it\n",
    "def integral2(linespace, pth_D):\n",
    "    p_x_theta_D = np.zeros((points,points))\n",
    "    for i in range(points):\n",
    "        for j in range(points):\n",
    "            p_x_theta_D[i,j] = pth_D[i] *  (1/np.pi) * (1/(1+pow(linespace[j] - linespace[i],2)))\n",
    "    \n",
    "    p_x_theta_D = np.sum(p_x_theta_D, axis=0)\n",
    "\n",
    "\n",
    "    #trapezium rule\n",
    "    step = (linespace[-1] - linespace[0])/linespace.size\n",
    "    sum = 0\n",
    "\n",
    "    for i in range(linespace.size - 1):\n",
    "        sum = sum + ((p_x_theta_D[i] + p_x_theta_D[i + 1]))*step/2\n",
    "    \n",
    "    return p_x_theta_D\n",
    "\n",
    "p_x_theta_D1 = integral2(linespace, pth_D1)\n",
    "p_x_theta_D2 = integral2(linespace, pth_D2)\n",
    "\n",
    "\n",
    "#plot p(x|D1) and p(x|D2)\n",
    "plt.figure()\n",
    "plt.scatter(linespace, p_x_theta_D1)\n",
    "plt.scatter(linespace, p_x_theta_D2)\n",
    "plt.show()\n",
    "    "
   ]
  },
  {
   "cell_type": "code",
   "execution_count": 7,
   "metadata": {},
   "outputs": [
    {
     "data": {
      "image/png": "[encoded data removed]",
      "text/plain": [
       "<Figure size 432x288 with 1 Axes>"
      ]
     },
     "metadata": {
      "needs_background": "light"
     },
     "output_type": "display_data"
    },
    {
     "name": "stdout",
     "output_type": "stream",
     "text": [
      "value :  class\n",
      "2.8 :  1.0\n",
      "-0.4 :  1.0\n",
      "-0.8 :  1.0\n",
      "2.3 :  1.0\n",
      "-0.3 :  1.0\n",
      "3.6 :  1.0\n",
      "4.1 :  1.0\n",
      "-4.5 :  2.0\n",
      "-3.4 :  2.0\n",
      "-3.1 :  2.0\n",
      "-3.0 :  2.0\n",
      "-2.3 :  2.0\n"
     ]
    }
   ],
   "source": [
    "#function that predicts according to the pre claculated probability distributins p(x|D1) : px1 and p(x|D2): px2\n",
    "# P1 is P(ω1) and  P2 is P(ω2)\n",
    "#x is given as an index on the current linespace (-10,10,points=1000)\n",
    "def predict(x, px1, px2, P1, P2):\n",
    "    return np.log(px1[x]) - np.log(px2[x]) + np.log(P1) - np.log(P2)\n",
    "\n",
    "#plot prediction for each one of the points\n",
    "result = np.zeros(points)\n",
    "for i in range(points):\n",
    "    result[i] = predict(i, p_x_theta_D1, p_x_theta_D2, P1, P2)\n",
    "\n",
    "\n",
    "plt.figure()\n",
    "plt.scatter(linespace, result)\n",
    "plt.show()\n",
    "\n",
    "#predictions for given data\n",
    "predictions = np.zeros(len(D))\n",
    "\n",
    "for i in range(len(D)):\n",
    "    #transform data to linespace indexes\n",
    "    x = int((D[i] + 10) * 1000/20)\n",
    "    predictions[i] = predict(x, p_x_theta_D1, p_x_theta_D2, P1, P2) \n",
    "\n",
    "\n",
    "Dclass = np.zeros(D.size)\n",
    "\n",
    "for i in range(D.size):\n",
    "    if predictions[i] > -1:\n",
    "        Dclass[i] = 1\n",
    "    else:\n",
    "        Dclass[i] = 2\n",
    "\n",
    "print(\"value :  class\")\n",
    "for i in range(len(D)):\n",
    "    print(D[i], \": \",Dclass[i])\n",
    "        "
   ]
  },
  {
   "attachments": {},
   "cell_type": "markdown",
   "metadata": {},
   "source": [
    "## Σχολιασμός\n",
    "\n",
    "Από το ερώτημα 1, βλέπουμε ότι οι $p(θ|D_i)$ είναι συγκεντρομένες γύρω απο τα σημεία στα οποία υπάρχουν περισσότερα δείγματα από κάθε κλάση. Όσον αφορά ποια από τις δύο μεθόδους είναι καλύτερη για το συγκεκριμένο πρόβλημα, τα δεδομένα μας είναι πολύ λίγα οπότε η μέθοδος μέγιστης πιθανοφάνειας μπορεί να οδηγηθεί σε εσφαλμένες προβλέψεις για καινούργια δεδομένα, καθώς επηρεάζεται πολύ από τα δεδομένα εκπαίδευσης. Από την άλλη, παρόλο που η εκτίμηση κατά Bayes είναι ασφαλέστερη σε αυτή τη περίπτωση, εξαρτάται σε μεγάλο βαθμό από την κατανομή $p(θ)$, που μπορεί να μην έχει εκτιμηθεί σωστά."
   ]
  }
 ],
 "metadata": {
  "kernelspec": {
   "display_name": "tf-n",
   "language": "python",
   "name": "python3"
  },
  "language_info": {
   "codemirror_mode": {
    "name": "ipython",
    "version": 3
   },
   "file_extension": ".py",
   "mimetype": "text/x-python",
   "name": "python",
   "nbconvert_exporter": "python",
   "pygments_lexer": "ipython3",
   "version": "3.10.4"
  },
  "orig_nbformat": 4,
  "vscode": {
   "interpreter": {
    "hash": "a5795a30c3f8679dcb0eaac7bb5415061bf200deab260b963d08df3b48398111"
   }
  }
 },
 "nbformat": 4,
 "nbformat_minor": 2
}
